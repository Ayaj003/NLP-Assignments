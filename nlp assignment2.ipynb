{
 "cells": [
  {
   "cell_type": "code",
   "execution_count": 1,
   "id": "08ef4c84",
   "metadata": {},
   "outputs": [
    {
     "name": "stderr",
     "output_type": "stream",
     "text": [
      "C:\\Users\\dell\\AppData\\Local\\Temp\\ipykernel_9532\\1873409462.py:11: DeprecationWarning: Call to deprecated `glove2word2vec` (KeyedVectors.load_word2vec_format(.., binary=False, no_header=True) loads GLoVE text vectors.).\n",
      "  glove2word2vec(glove_input_file, word2vec_output_file)\n",
      "C:\\Users\\dell\\AppData\\Local\\Temp\\ipykernel_9532\\1873409462.py:12: DeprecationWarning: Call to deprecated `glove2word2vec` (KeyedVectors.load_word2vec_format(.., binary=False, no_header=True) loads GLoVE text vectors.).\n",
      "  glove2word2vec(glove_input_file, word2vec_output_file)\n"
     ]
    },
    {
     "data": {
      "text/plain": [
       "(400001, 300)"
      ]
     },
     "execution_count": 1,
     "metadata": {},
     "output_type": "execute_result"
    }
   ],
   "source": [
    "from gensim.scripts.glove2word2vec import glove2word2vec\n",
    "import gensim.models\n",
    "import gensim.downloader as api\n",
    "import json\n",
    "import numpy as np\n",
    "from sklearn.metrics.pairwise import cosine_similarity\n",
    "import re\n",
    "\n",
    "glove_input_file = 'C:\\\\Users\\\\dell\\\\Downloads\\\\glove.6B\\\\glove.6B.300d.txt'\n",
    "word2vec_output_file = 'C:\\\\Users\\\\dell\\\\Downloads\\\\glove.6B\\\\glove.6B.300d.word2vec.txt'\n",
    "glove2word2vec(glove_input_file, word2vec_output_file)\n",
    "glove2word2vec(glove_input_file, word2vec_output_file)"
   ]
  },
  {
   "cell_type": "code",
   "execution_count": 2,
   "id": "1d342e12",
   "metadata": {},
   "outputs": [],
   "source": [
    "glove_model = gensim.models.KeyedVectors.load_word2vec_format(word2vec_output_file, binary=False)\n",
    "word2vec_model = api.load('word2vec-google-news-300')\n",
    "fasttext_model = api.load('fasttext-wiki-news-subwords-300')"
   ]
  },
  {
   "cell_type": "code",
   "execution_count": 3,
   "id": "04d859f7",
   "metadata": {},
   "outputs": [],
   "source": [
    "file_path = 'C:\\\\Users\\\\dell\\\\Downloads\\\\train_rand_split.jsonl'\n",
    "data = []\n",
    "with open(file_path, 'r', encoding='utf-8') as file:\n",
    "    for line in file:\n",
    "        data.append(json.loads(line))"
   ]
  },
  {
   "cell_type": "code",
   "execution_count": 4,
   "id": "8c5454a4",
   "metadata": {},
   "outputs": [],
   "source": [
    "def clean_text(text):\n",
    "    text = text.lower()\n",
    "    text = re.sub(r'[^\\w\\s]', '', text)\n",
    "    return text\n",
    "\n",
    "for item in data:\n",
    "    item['question']['stem'] = clean_text(item['question']['stem'])\n",
    "    for choice in item['question']['choices']:\n",
    "        choice['text'] = clean_text(choice['text'])"
   ]
  },
  {
   "cell_type": "code",
   "execution_count": 5,
   "id": "dabd1eeb",
   "metadata": {},
   "outputs": [],
   "source": [
    "def text_to_vector(text, model):\n",
    "    words = text.split()\n",
    "    vectors = np.array([model.get_vector(word) for word in words if word in model])\n",
    "    if len(vectors) == 0:\n",
    "        return np.zeros(model.vector_size) \n",
    "    return np.mean(vectors, axis=0)"
   ]
  },
  {
   "cell_type": "code",
   "execution_count": 6,
   "id": "7048e902",
   "metadata": {},
   "outputs": [],
   "source": [
    "def predict_answer(question, choices, model):\n",
    "    question_vec = text_to_vector(question, model)\n",
    "    best_choice = None\n",
    "    max_similarity = -1\n",
    "    for choice in choices:\n",
    "        choice_text = choice['text']\n",
    "        choice_vec = text_to_vector(choice_text, model)\n",
    "        similarity = cosine_similarity([question_vec], [choice_vec])[0][0]\n",
    "        if similarity > max_similarity:\n",
    "            max_similarity = similarity\n",
    "            best_choice = choice['label']\n",
    "    return best_choice"
   ]
  },
  {
   "cell_type": "code",
   "execution_count": 7,
   "id": "bba90132",
   "metadata": {},
   "outputs": [],
   "source": [
    "def evaluate_accuracy(data, model):\n",
    "    correct_predictions = 0\n",
    "    for item in data:\n",
    "        question = item['question']['stem']\n",
    "        choices = item['question']['choices']\n",
    "        correct_answer = item['answerKey']\n",
    "        predicted_answer = predict_answer(question, choices, model)\n",
    "        if predicted_answer == correct_answer:\n",
    "            correct_predictions += 1\n",
    "    accuracy = correct_predictions / len(data)\n",
    "    return accuracy"
   ]
  },
  {
   "cell_type": "code",
   "execution_count": 12,
   "id": "bd193a9b",
   "metadata": {},
   "outputs": [
    {
     "name": "stdout",
     "output_type": "stream",
     "text": [
      "GloVe Model: 0.21845806385381378\n",
      "Improvement over baseline: 1.85%\n",
      "Word2Vec Model: 0.26978749615029257\n",
      "Improvement over baseline: 6.98%\n",
      "FastText Model: 0.21958731136433632\n",
      "Improvement over baseline: 1.96%\n"
     ]
    }
   ],
   "source": [
    "glove_accuracy = evaluate_accuracy(data, glove_model)\n",
    "word2vec_accuracy = evaluate_accuracy(data, word2vec_model)\n",
    "fasttext_accuracy = evaluate_accuracy(data, fasttext_model)\n",
    "\n",
    "baseline_accuracy = 0.2\n",
    "def difference(model_accuracy):\n",
    "    return model_accuracy - baseline_accuracy\n",
    "\n",
    "print(f\"GloVe Model: {glove_accuracy}\")\n",
    "print(f\"Improvement over baseline: {difference(glove_accuracy)*100:.2f}%\")\n",
    "print(f\"Word2Vec Model: {word2vec_accuracy}\")\n",
    "print(f\"Improvement over baseline: {difference(word2vec_accuracy)*100:.2f}%\")\n",
    "print(f\"FastText Model: {fasttext_accuracy}\")\n",
    "print(f\"Improvement over baseline: {difference(fasttext_accuracy)*100:.2f}%\")"
   ]
  },
  {
   "cell_type": "code",
   "execution_count": 15,
   "id": "52f3cad0",
   "metadata": {},
   "outputs": [
    {
     "name": "stdout",
     "output_type": "stream",
     "text": [
      "Question: Which instrument is used to measure temperature?\n",
      "Predicted Answer Label: D, Predicted Answer: spectrometer\n",
      "Correct Answer: thermometer\n",
      "\n",
      "Question: Why does the moon shine?\n",
      "Predicted Answer Label: B, Predicted Answer: reflects light from the sun\n",
      "Correct Answer: reflects light from the sun\n",
      "\n",
      "Question: What do plants release into the air during photosynthesis?\n",
      "Predicted Answer Label: B, Predicted Answer: water vapor\n",
      "Correct Answer: oxygen\n",
      "\n",
      "word2vec_model accuracy: 0.3333333333333333\n"
     ]
    }
   ],
   "source": [
    "#EXTRA: Testing some data from external file\n",
    "\n",
    "test_data = []\n",
    "with open('C:\\\\Users\\\\dell\\\\Downloads\\\\test.jsonl', 'r', encoding='utf-8') as file:\n",
    "    for line in file:\n",
    "        test_data.append(json.loads(line))\n",
    "\n",
    "for item in test_data:\n",
    "    question = item['question']['stem']\n",
    "    choices = item['question']['choices']\n",
    "    correct_answer = item['answerKey']\n",
    "    predicted_answer_label = predict_answer(question, choices, glove_model)\n",
    "    predicted_answer_text = next((choice['text'] for choice in choices if choice['label'] == predicted_answer_label), None)\n",
    "    print(f\"Question: {question}\")\n",
    "    print(f\"Predicted Answer Label: {predicted_answer_label}, Predicted Answer: {predicted_answer_text}\")\n",
    "    correct_answer_text = next((choice['text'] for choice in choices if choice['label'] == correct_answer), None)\n",
    "    print(f\"Correct Answer: {correct_answer_text}\\n\")\n",
    "\n",
    "test_accuracy = evaluate_accuracy(test_data, word2vec_model)  \n",
    "print(f\"word2vec_model accuracy: {test_accuracy}\")"
   ]
  },
  {
   "cell_type": "code",
   "execution_count": null,
   "id": "abc4d7a8",
   "metadata": {},
   "outputs": [],
   "source": []
  }
 ],
 "metadata": {
  "kernelspec": {
   "display_name": "Python 3 (ipykernel)",
   "language": "python",
   "name": "python3"
  },
  "language_info": {
   "codemirror_mode": {
    "name": "ipython",
    "version": 3
   },
   "file_extension": ".py",
   "mimetype": "text/x-python",
   "name": "python",
   "nbconvert_exporter": "python",
   "pygments_lexer": "ipython3",
   "version": "3.11.5"
  }
 },
 "nbformat": 4,
 "nbformat_minor": 5
}
